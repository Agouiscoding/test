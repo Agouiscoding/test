{
 "cells": [
  {
   "cell_type": "code",
   "execution_count": 1,
   "id": "f66b5bb1-381a-4655-8177-9a033275c55a",
   "metadata": {},
   "outputs": [
    {
     "name": "stdout",
     "output_type": "stream",
     "text": [
      "1\n"
     ]
    },
    {
     "name": "stderr",
     "output_type": "stream",
     "text": [
      "/home/ma-user/anaconda3/envs/PyTorch-1.8/lib/python3.7/site-packages/tqdm/auto.py:22: TqdmWarning: IProgress not found. Please update jupyter and ipywidgets. See https://ipywidgets.readthedocs.io/en/stable/user_install.html\n",
      "  from .autonotebook import tqdm as notebook_tqdm\n",
      "Training Epochs: 100%|██████████| 3/3 [00:35<00:00, 11.67s/it]\n"
     ]
    }
   ],
   "source": [
    "CONFIG = {\n",
    "    'n_epochs': 200,\n",
    "    'batch_size': 128,\n",
    "    'lr': 0.0002,\n",
    "    'latent_dim': 100,\n",
    "    'save_interval': 500,\n",
    "    'g_model_path': '',\n",
    "    'save_path': 'images/task2.1'\n",
    "}\n",
    "\n",
    "print(1)\n",
    "from test import main\n",
    "\n",
    "main(CONFIG)"
   ]
  },
  {
   "cell_type": "code",
   "execution_count": null,
   "id": "3664de17-0c8c-43e9-9fee-11842770ac9a",
   "metadata": {},
   "outputs": [],
   "source": []
  }
 ],
 "metadata": {
  "kernelspec": {
   "display_name": "PyTorch-1.8",
   "language": "python",
   "name": "pytorch-1.8"
  },
  "language_info": {
   "codemirror_mode": {
    "name": "ipython",
    "version": 3
   },
   "file_extension": ".py",
   "mimetype": "text/x-python",
   "name": "python",
   "nbconvert_exporter": "python",
   "pygments_lexer": "ipython3",
   "version": "3.7.10"
  }
 },
 "nbformat": 4,
 "nbformat_minor": 5
}
