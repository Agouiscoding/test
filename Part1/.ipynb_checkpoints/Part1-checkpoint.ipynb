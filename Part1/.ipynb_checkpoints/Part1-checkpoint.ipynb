{
 "cells": [
  {
   "cell_type": "code",
   "execution_count": 5,
   "id": "f963704a-b9a3-46f3-9922-09f1ba55a9af",
   "metadata": {},
   "outputs": [
    {
     "name": "stdout",
     "output_type": "stream",
     "text": [
      "1\n",
      "Using device: cpu\n"
     ]
    },
    {
     "name": "stderr",
     "output_type": "stream",
     "text": [
      "100%|████████████████████████████████████████████████████████████████████████████████| 100/100 [33:35<00:00, 20.16s/it]"
     ]
    },
    {
     "name": "stdout",
     "output_type": "stream",
     "text": [
      "After 100 Epochs:\n",
      "Train Acc: 100.0000%, Validate Acc: 99.9950%\n",
      "Train Loss: 0.000000, Validate Loss: 0.000123\n",
      "Done training.\n"
     ]
    },
    {
     "name": "stderr",
     "output_type": "stream",
     "text": [
      "\n"
     ]
    }
   ],
   "source": [
    "import torch\n",
    "import numpy as np\n",
    "import matplotlib.pyplot as plt\n",
    "from torch.utils.data import DataLoader, random_split\n",
    "from dataset import PalindromeDataset\n",
    "from lstm import LSTM\n",
    "from train import train, evaluate\n",
    "from utils import AverageMeter, accuracy\n",
    "from tqdm import tqdm\n",
    "\n",
    "print(1)\n",
    "input_length =  19\n",
    "input_dim = 1  \n",
    "num_classes = 10  \n",
    "num_hidden = 128  \n",
    "batch_size = 128  \n",
    "learning_rate = 0.001 \n",
    "max_epoch = 100 \n",
    "max_norm = 10.0  \n",
    "data_size = 100000  \n",
    "portion_train = 0.8  \n",
    "\n",
    "device = 'cuda' if torch.cuda.is_available() else 'cpu'\n",
    "print(f\"Using device: {device}\")\n",
    "\n",
    "# 初始化数据集\n",
    "dataset = PalindromeDataset(input_length, data_size)\n",
    "# 划分训练集和验证集\n",
    "train_size = int(portion_train * len(dataset))\n",
    "val_size = len(dataset) - train_size\n",
    "train_dataset, val_dataset = random_split(dataset, [train_size, val_size])\n",
    "# 创建训练集和验证集的数据加载器\n",
    "train_dloader = DataLoader(train_dataset, batch_size=batch_size, shuffle=True)\n",
    "val_dloader = DataLoader(val_dataset, batch_size=batch_size)\n",
    "\n",
    "# 初始化模型\n",
    "model = LSTM(input_length, input_dim, num_hidden, num_classes)\n",
    "model.to(device)\n",
    "\n",
    "# 设置损失函数和优化器\n",
    "criterion = torch.nn.CrossEntropyLoss()\n",
    "optimizer = torch.optim.RMSprop(model.parameters(), lr=learning_rate)\n",
    "scheduler = torch.optim.lr_scheduler.StepLR(optimizer, step_size=20, gamma=0.5)\n",
    "\n",
    "train_losses = []\n",
    "train_accuracies = []\n",
    "val_losses = []\n",
    "val_accuracies = []\n",
    "\n",
    "for epoch in tqdm(range(max_epoch)):\n",
    "#     print(f'Epoch {epoch + 1}/{max_epoch}')\n",
    "    # 训练模型一个epoch\n",
    "    train_loss, train_acc = train(model, train_dloader, optimizer, criterion, device, {'max_norm': max_norm})\n",
    "    train_losses.append(train_loss)\n",
    "    train_accuracies.append(train_acc)\n",
    "#     print(f'Train Loss: {train_loss:.4f}, Train Acc: {train_acc:.4f}')\n",
    "\n",
    "    # 在验证集上评估训练好的模型\n",
    "    val_loss, val_acc = evaluate(model, val_dloader, criterion, device, {})\n",
    "    val_losses.append(val_loss)\n",
    "    val_accuracies.append(val_acc)\n",
    "#     print(f'Val Loss: {val_loss:.4f}, Val Acc: {val_acc:.4f}')\n",
    "\n",
    "    scheduler.step()\n",
    "\n",
    "print(f'After {max_epoch} Epochs:')\n",
    "print(f'Train Acc: {train_accuracies[-1] * 100:.4f}%, Validate Acc: {val_accuracies[-1] * 100:.4f}%')\n",
    "print(f'Train Loss: {train_losses[-1]:.6f}, Validate Loss: {val_losses[-1]:.6f}')\n",
    "    \n",
    "print('Done training.')"
   ]
  },
  {
   "cell_type": "markdown",
   "id": "0baff4fd-75a5-447d-8a8b-39bb76cf9d40",
   "metadata": {},
   "source": [
    "## Darw curve"
   ]
  },
  {
   "cell_type": "code",
   "execution_count": null,
   "id": "1093186f-f744-404b-946d-bc363c527d5e",
   "metadata": {},
   "outputs": [],
   "source": [
    "epochs = range(max_epoch)\n",
    "plt.figure(figsize=(12, 6))\n",
    "\n",
    "plt.subplot(1, 2, 1)\n",
    "plt.plot(epochs,train_losses, label='Train Loss')\n",
    "plt.plot(epochs,val_losses, label='Val Loss')\n",
    "plt.xlabel('Epoch')\n",
    "plt.ylabel('Loss')\n",
    "plt.legend()\n",
    "plt.grid(True)\n",
    "\n",
    "plt.subplot(1, 2, 2)\n",
    "plt.plot(epochs,train_accuracies, label='Train Acc')\n",
    "plt.plot(epochs,val_accuracies, label='Val Acc')\n",
    "plt.xlabel('Epoch')\n",
    "plt.ylabel('Accuracy')\n",
    "plt.legend()\n",
    "plt.grid(True)\n",
    "\n",
    "plt.tight_layout()\n",
    "plt.show()"
   ]
  },
  {
   "cell_type": "code",
   "execution_count": null,
   "id": "157038ee-9467-4544-82c6-1e9db114ab72",
   "metadata": {},
   "outputs": [],
   "source": []
  }
 ],
 "metadata": {
  "kernelspec": {
   "display_name": "Python 3 (ipykernel)",
   "language": "python",
   "name": "python3"
  },
  "language_info": {
   "codemirror_mode": {
    "name": "ipython",
    "version": 3
   },
   "file_extension": ".py",
   "mimetype": "text/x-python",
   "name": "python",
   "nbconvert_exporter": "python",
   "pygments_lexer": "ipython3",
   "version": "3.10.14"
  }
 },
 "nbformat": 4,
 "nbformat_minor": 5
}
